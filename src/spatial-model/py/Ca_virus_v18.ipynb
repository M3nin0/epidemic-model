{
 "cells": [
  {
   "cell_type": "code",
   "execution_count": 1,
   "metadata": {},
   "outputs": [],
   "source": [
    "from mpl_toolkits.basemap import Basemap\n",
    "import matplotlib.pyplot as plt\n",
    "import numpy as np\n",
    "from mpl_toolkits.axes_grid1 import make_axes_locatable\n",
    "import math\n",
    "import pandas as pd\n",
    "import warnings\n",
    "import matplotlib.cbook\n",
    "import shapefile\n",
    "from matplotlib.patches import Path, PathPatch\n",
    "from mpl_toolkits.axes_grid1 import make_axes_locatable\n",
    "warnings.filterwarnings(\"ignore\",category=matplotlib.cbook.mplDeprecation)\n",
    "\n",
    "%run ../src/funtion_vecinos.ipynb\n",
    "%run ../src/funtion_condiciones.ipynb"
   ]
  },
  {
   "cell_type": "code",
   "execution_count": 2,
   "metadata": {},
   "outputs": [],
   "source": [
    "case = 4"
   ]
  },
  {
   "cell_type": "code",
   "execution_count": 3,
   "metadata": {},
   "outputs": [],
   "source": [
    "t_total = 200"
   ]
  },
  {
   "cell_type": "code",
   "execution_count": 4,
   "metadata": {},
   "outputs": [],
   "source": [
    "if case == 1:\n",
    "    vecino1 = 'moore';Pobla1 = 'homogenea';Conec1 = 'homogenea';Vacu1 = 'homogenea'\n",
    "    vecino2 = 'neumann';Pobla2 = 'homogenea';Conec2 = 'homogenea';Vacu2 = 'homogenea'\n",
    "elif case == 2:\n",
    "    vecino1 = 'moore';Pobla1 = 'heterogenea';Conec1 = 'homogenea';Vacu1 = 'homogenea'\n",
    "    vecino2 = 'moore';Pobla2 = 'homogenea';Conec2 = 'homogenea';Vacu2 = 'homogenea'\n",
    "elif case == 3:\n",
    "    vecino1 = 'moore';Pobla1 = 'homogenea';Conec1 = 'heterogenea';Vacu1 = 'homogenea'\n",
    "    vecino2 = 'moore';Pobla2 = 'homogenea';Conec2 = 'homogenea';Vacu2 = 'homogenea'\n",
    "elif case == 4:\n",
    "    vecino1 = 'moore';Pobla1 = 'heterogenea';Conec1 = 'homogenea';Vacu1 = 'homogenea'\n",
    "    vecino2 = 'moore';Pobla2 = 'heterogenea';Conec2 = 'homogenea';Vacu2 = 'heterogenea'"
   ]
  },
  {
   "cell_type": "code",
   "execution_count": 5,
   "metadata": {},
   "outputs": [],
   "source": [
    "v = 0.6 #Virulencia\n",
    "e = 0.0 #Recuperacion\n",
    "\n",
    "m = 0.2 #Factor de movimiento\n",
    "u = m*v"
   ]
  },
  {
   "cell_type": "code",
   "execution_count": 6,
   "metadata": {},
   "outputs": [
    {
     "name": "stdout",
     "output_type": "stream",
     "text": [
      "Poblacion Heterogenea\n",
      "Poblacion Heterogenea\n"
     ]
    }
   ],
   "source": [
    "Poblacion1 = poblacion(Pobla1,0.2)\n",
    "Poblacion2 = poblacion(Pobla2,0.2)"
   ]
  },
  {
   "cell_type": "code",
   "execution_count": 7,
   "metadata": {},
   "outputs": [
    {
     "name": "stdout",
     "output_type": "stream",
     "text": [
      "Conectividad Homogenea\n",
      "Conectividad Homogenea\n"
     ]
    }
   ],
   "source": [
    "Conectividad1 = conectividad(Conec1,0.2)\n",
    "Conectividad2 = conectividad(Conec2,0.2)"
   ]
  },
  {
   "cell_type": "code",
   "execution_count": 8,
   "metadata": {},
   "outputs": [
    {
     "name": "stdout",
     "output_type": "stream",
     "text": [
      "Vacunacion Homogenea\n",
      "Vacunacion Heterogenea\n"
     ]
    }
   ],
   "source": [
    "# Max 0.07\n",
    "Vacunacion1 = vacunacion(Vacu1,0)\n",
    "Vacunacion2 = vacunacion(Vacu2,0.01)"
   ]
  },
  {
   "cell_type": "code",
   "execution_count": 9,
   "metadata": {},
   "outputs": [],
   "source": [
    "I1,S1,R1,lat,lon = condiciones(Poblacion1,t_total,58,54)\n",
    "I2,S2,R2,lat,lon = condiciones(Poblacion2,t_total,58,54)"
   ]
  },
  {
   "cell_type": "code",
   "execution_count": 10,
   "metadata": {},
   "outputs": [
    {
     "name": "stdout",
     "output_type": "stream",
     "text": [
      "moore\n",
      "moore\n"
     ]
    }
   ],
   "source": [
    "I1,S1,R1 = virus(vecino1,I1,S1,R1,Poblacion1,Conectividad1,Vacunacion1,v,e,u)\n",
    "I2,S2,R2 = virus(vecino2,I2,S2,R2,Poblacion2,Conectividad2,Vacunacion2,v,e,u)"
   ]
  },
  {
   "cell_type": "code",
   "execution_count": 11,
   "metadata": {},
   "outputs": [],
   "source": [
    "Infec1,Sanos1,Recup1 = analisis(I1,S1,R1)\n",
    "Infec2,Sanos2,Recup2 = analisis(I2,S2,R2)"
   ]
  },
  {
   "cell_type": "code",
   "execution_count": 12,
   "metadata": {},
   "outputs": [],
   "source": [
    "lim_min,lim_max = y_limite(Infec1,Sanos1,Recup1,Infec2,Sanos2,Recup2)"
   ]
  },
  {
   "cell_type": "code",
   "execution_count": 13,
   "metadata": {},
   "outputs": [],
   "source": [
    "if Pobla1 == 'homogenea':\n",
    "    Pob_title1 = 'Pob. K'\n",
    "elif Pobla1 == 'heterogenea':\n",
    "    Pob_title1 = 'Pob. V'\n",
    "    \n",
    "if Pobla2 == 'homogenea':\n",
    "    Pob_title2 = 'Pob. K'\n",
    "elif Pobla2 == 'heterogenea':\n",
    "    Pob_title2 = 'Pob. V'\n",
    "    \n",
    "if Conec1 == 'homogenea':\n",
    "    Conec_title1 = 'Conec. K'\n",
    "elif Conec1 == 'heterogenea':\n",
    "    Conec_title1 = 'Conec. V'\n",
    "    \n",
    "if Conec2 == 'homogenea':\n",
    "    Conec_title2 = 'Conec. K'\n",
    "elif Conec2 == 'heterogenea':\n",
    "    Conec_title2 = 'Conec. V'\n",
    "    \n",
    "if Vacu1 == 'homogenea':\n",
    "    Vacu_title1 = 'Vacu. 0'\n",
    "elif Vacu1 == 'heterogenea':\n",
    "    Vacu_title1 = 'Vacu. V'\n",
    "    \n",
    "if Vacu2 == 'homogenea':\n",
    "    Vacu_title2 = 'Vacu. 0'\n",
    "elif Vacu2 == 'heterogenea':\n",
    "    Vacu_title2 = 'Vacu. V'"
   ]
  },
  {
   "cell_type": "code",
   "execution_count": 14,
   "metadata": {},
   "outputs": [],
   "source": [
    "\n",
    "for ii in range(t_total):\n",
    "    \n",
    "    fig1 = plt.figure(figsize=(8,10),dpi=150)\n",
    "\n",
    "    #================================================================================================================\n",
    "    plt.subplot(3,2,2)\n",
    "    m1 = Basemap(projection='cyl',llcrnrlat=-35,urcrnrlat=6,llcrnrlon=-75,urcrnrlon=-34,resolution='l')\n",
    "\n",
    "    cmap = plt.cm.Reds\n",
    "    m1.drawparallels(np.arange(-40,40,10),labels=[0,1,0,0],fontsize=10,color='gray',linewidth=0.1)\n",
    "    m1.drawmeridians(np.arange(180,540,5),labels=[0,0,0,0],fontsize=10,color='gray',linewidth=0.1)\n",
    "\n",
    "    m1.readshapefile('../shp/Estados/EstadosBR_IBGE_LLWGS84','EstadosBR_IBGE_LLWGS84',linewidth=1)\n",
    "\n",
    "    lons,lats = np.meshgrid(lon,lat)\n",
    "    x,y = m1(lons,lats)\n",
    "\n",
    "    ax = plt.gca()\n",
    "    a1 = plt.pcolormesh(x,y,I1[ii,:,:],cmap=cmap,vmin=0,vmax=1)\n",
    "    \n",
    "    divider = make_axes_locatable(ax)\n",
    "    cax = divider.append_axes(\"left\", size=\"5%\", pad=0.05)\n",
    "    cbar1 = plt.colorbar(a1,cax=cax,ticks=None,orientation='vertical')\n",
    "    cax.yaxis.set_ticks_position('left')\n",
    "\n",
    "    ax.text(-73,-17,vecino1, ha='left', size=10,bbox=dict(facecolor='white',edgecolor='black',pad=4.0))\n",
    "    ax.text(-73,-22,Pob_title1, ha='left', size=10,bbox=dict(facecolor='white',edgecolor='black',pad=4.0))\n",
    "    ax.text(-73,-27,Conec_title1, ha='left', size=10,bbox=dict(facecolor='white',edgecolor='black',pad=4.0))\n",
    "    ax.text(-73,-32,Vacu_title1, ha='left', size=10,bbox=dict(facecolor='white',edgecolor='black',pad=4.0))\n",
    "\n",
    "    #================================================================================================================\n",
    "    plt.subplot(3,2,1)\n",
    "\n",
    "    ax = plt.gca()\n",
    "    plt.plot(Infec1[0:ii],'r',label='Inf')\n",
    "    plt.plot(Sanos1[0:ii],label='Sus')\n",
    "    plt.plot(Recup1[0:ii],'g',label='Rec')\n",
    "\n",
    "    ax.axes.get_xaxis().set_visible(False)\n",
    "    ax.tick_params(axis=u'both', which=u'both',length=0)\n",
    "\n",
    "    plt.xlim(-5,t_total + 5)\n",
    "    plt.ylim(-100,Sanos1[0]+100)\n",
    "\n",
    "    plt.legend(loc=5,fontsize=8)\n",
    "\n",
    "    #================================================================================================================\n",
    "    plt.subplot(3,2,4)\n",
    "    m1 = Basemap(projection='cyl',llcrnrlat=-35,urcrnrlat=6,llcrnrlon=-75,urcrnrlon=-34,resolution='l')\n",
    "\n",
    "    cmap = plt.cm.Reds\n",
    "    m1.drawparallels(np.arange(-40,40,10),labels=[0,1,0,0],fontsize=10,color='gray',linewidth=0.1)\n",
    "    m1.drawmeridians(np.arange(180,540,5),labels=[0,0,0,0],fontsize=8,color='gray',linewidth=0.1)\n",
    "\n",
    "    m1.readshapefile('../shp/Estados/EstadosBR_IBGE_LLWGS84','EstadosBR_IBGE_LLWGS84',linewidth=1)\n",
    "\n",
    "    lons,lats = np.meshgrid(lon,lat)\n",
    "    x,y = m1(lons,lats)\n",
    "\n",
    "    ax = plt.gca()\n",
    "    a1 = plt.pcolormesh(x,y,I2[ii,:,:],cmap=cmap,vmin=0,vmax=1)\n",
    "    \n",
    "    divider = make_axes_locatable(ax)\n",
    "    cax = divider.append_axes(\"left\", size=\"5%\", pad=0.05)\n",
    "    cbar1 = plt.colorbar(a1,cax=cax,ticks=None,orientation='vertical')\n",
    "    cax.yaxis.set_ticks_position('left')\n",
    "\n",
    "    ax.text(-73,-17,vecino2, ha='left', size=10,bbox=dict(facecolor='white',edgecolor='black',pad=4.0))\n",
    "    ax.text(-73,-22,Pob_title2, ha='left', size=10,bbox=dict(facecolor='white',edgecolor='black',pad=4.0))\n",
    "    ax.text(-73,-27,Conec_title2, ha='left', size=10,bbox=dict(facecolor='white',edgecolor='black',pad=4.0))\n",
    "    ax.text(-73,-32,Vacu_title2, ha='left', size=10,bbox=dict(facecolor='white',edgecolor='black',pad=4.0))\n",
    "\n",
    "    #================================================================================================================\n",
    "    plt.subplot(3,2,3)\n",
    "\n",
    "    ax = plt.gca()\n",
    "    plt.plot(Infec2[0:ii],'r',label='Inf')\n",
    "    plt.plot(Sanos2[0:ii],label='Sus')\n",
    "    plt.plot(Recup2[0:ii],'g',label='Rec')\n",
    "\n",
    "    ax.axes.get_xaxis().set_visible(False)\n",
    "    ax.tick_params(axis=u'both', which=u'both',length=0)\n",
    "\n",
    "    plt.xlim(-5,t_total + 5)\n",
    "    plt.ylim(-100,Sanos2[0]+100)\n",
    "\n",
    "    plt.legend(loc=5,fontsize=8)\n",
    "\n",
    "    #================================================================================================================\n",
    "\n",
    "    plt.subplot(3,2,6)\n",
    "    m1 = Basemap(projection='cyl',llcrnrlat=-35,urcrnrlat=6,llcrnrlon=-75,urcrnrlon=-34,resolution='l')\n",
    "\n",
    "    cmap = plt.cm.Reds\n",
    "    m1.drawparallels(np.arange(-40,40,10),labels=[0,1,0,0],fontsize=10,color='gray',linewidth=0.1)\n",
    "    m1.drawmeridians(np.arange(180,540,10),labels=[0,0,0,1],fontsize=10,color='gray',linewidth=0.1)\n",
    "\n",
    "    m1.readshapefile('../shp/Estados/EstadosBR_IBGE_LLWGS84','EstadosBR_IBGE_LLWGS84',linewidth=1)\n",
    "\n",
    "    lons,lats = np.meshgrid(lon,lat)\n",
    "    x,y = m1(lons,lats)\n",
    "\n",
    "    ax = plt.gca()\n",
    "    a1 = plt.pcolormesh(x,y,abs(I1[ii,:,:]-I2[ii,:,:]),cmap=cmap,vmin=0,vmax=1)\n",
    "    \n",
    "    divider = make_axes_locatable(ax)\n",
    "    cax = divider.append_axes(\"left\", size=\"5%\", pad=0.05)\n",
    "    cbar1 = plt.colorbar(a1,cax=cax,ticks=None,orientation='vertical')\n",
    "    cax.yaxis.set_ticks_position('left')\n",
    "\n",
    "    ax.text(-73,-25,'Abs Diff', ha='left', size=10,bbox=dict(facecolor='white',edgecolor='black',pad=4.0))\n",
    "\n",
    "    #================================================================================================================\n",
    "    plt.subplot(3,2,5)\n",
    "\n",
    "    ax = plt.gca()\n",
    "    plt.plot(Infec1[0:ii] - Infec2[0:ii],'r',label='Infectados')\n",
    "    plt.plot(Sanos1[0:ii] - Sanos2[0:ii],label='Suscetíveis')\n",
    "    plt.plot(Recup1[0:ii] - Recup2[0:ii],'g',label='Recuperdos')\n",
    "    \n",
    "    ax.tick_params(axis=u'both', which=u'both',length=0)\n",
    "    \n",
    "    plt.xlim(-5,t_total + 5)\n",
    "\n",
    "    plt.ylim(lim_min,lim_max)\n",
    "    \n",
    "    #plt.legend(loc=5,fontsize=8)\n",
    "\n",
    "    #================================================================================================================\n",
    "\n",
    "    plt.subplots_adjust(left=None, bottom=None, right=None, top=None, wspace=0.09, hspace=0.09)\n",
    "    \n",
    "    out_dir = '../fig/test/'\n",
    "    \n",
    "    salida = out_dir + str(ii).zfill(3)+'.png'\n",
    "    \n",
    "    plt.savefig(salida,transparent = False,bbox_inches ='tight',pad_inches = 0.1)\n",
    "    \n",
    "    plt.close()"
   ]
  },
  {
   "cell_type": "code",
   "execution_count": null,
   "metadata": {},
   "outputs": [],
   "source": []
  },
  {
   "cell_type": "code",
   "execution_count": null,
   "metadata": {},
   "outputs": [],
   "source": []
  }
 ],
 "metadata": {
  "kernelspec": {
   "display_name": "Python 3",
   "language": "python",
   "name": "python3"
  },
  "language_info": {
   "codemirror_mode": {
    "name": "ipython",
    "version": 3
   },
   "file_extension": ".py",
   "mimetype": "text/x-python",
   "name": "python",
   "nbconvert_exporter": "python",
   "pygments_lexer": "ipython3",
   "version": "3.7.6"
  }
 },
 "nbformat": 4,
 "nbformat_minor": 4
}
