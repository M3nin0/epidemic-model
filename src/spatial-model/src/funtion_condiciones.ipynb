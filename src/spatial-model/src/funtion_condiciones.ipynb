{
 "cells": [
  {
   "cell_type": "code",
   "execution_count": 2,
   "metadata": {},
   "outputs": [],
   "source": [
    "import numpy as np"
   ]
  },
  {
   "cell_type": "code",
   "execution_count": 3,
   "metadata": {},
   "outputs": [],
   "source": [
    "def poblacion(tipo,nn=0.4):\n",
    "    \n",
    "    Poblacion = np.loadtxt('../data/Brazil_poblacion.txt')\n",
    "    Poblacion = Poblacion.reshape((83,81))\n",
    "    \n",
    "    if tipo == 'heterogenea':\n",
    "        print('Poblacion Heterogenea')\n",
    "        return Poblacion\n",
    "    \n",
    "    else:\n",
    "        print('Poblacion Homogenea')\n",
    "        Poblacion = (Poblacion * 0) + nn\n",
    "        return Poblacion "
   ]
  },
  {
   "cell_type": "code",
   "execution_count": 4,
   "metadata": {},
   "outputs": [],
   "source": [
    "def conectividad(tipo,nn=0.4):\n",
    "    Conectividad = np.loadtxt('../data/Brazil_conectividad.txt')\n",
    "    Conectividad = Conectividad.reshape((83,81))\n",
    "    \n",
    "    if tipo == 'heterogenea':\n",
    "        print('Conectividad Heterogenea')\n",
    "        return Conectividad\n",
    "    \n",
    "    else:\n",
    "        print('Conectividad Homogenea')\n",
    "        Conectividad = (Conectividad * 0) + nn\n",
    "        return Conectividad"
   ]
  },
  {
   "cell_type": "code",
   "execution_count": null,
   "metadata": {},
   "outputs": [],
   "source": [
    "def vacunacion(tipo,nn=0.01):\n",
    "    Vacunacion = np.loadtxt('../data/Brazil_vacunacion.txt')\n",
    "    Vacunacion = Vacunacion.reshape((83,81))\n",
    "    \n",
    "    if tipo == 'heterogenea':\n",
    "        print('Vacunacion Heterogenea')\n",
    "        Vacunacion = Vacunacion *  nn\n",
    "        return Vacunacion\n",
    "    \n",
    "    else:\n",
    "        print('Vacunacion Homogenea')\n",
    "        Vacunacion = Vacunacion *  nn\n",
    "        return Vacunacion"
   ]
  },
  {
   "cell_type": "code",
   "execution_count": null,
   "metadata": {},
   "outputs": [],
   "source": [
    "def condiciones(data,t_total,lat_focus,lon_focus):\n",
    "    lon = np.arange(-75,-34.5,0.5)\n",
    "    lat = np.arange(6,-35.5,-0.5)\n",
    "    G3_lon = len(lon)\n",
    "    G3_lat = len(lat)\n",
    "    \n",
    "    Area = (data * 0) + 1\n",
    "    \n",
    "    Area_time = np.zeros([t_total,G3_lat,G3_lon])\n",
    "    for i in range(t_total):\n",
    "        Area_time[i,:,:] = Area\n",
    "        \n",
    "    S = Area_time\n",
    "    I = Area_time - 1\n",
    "    R = Area_time - 1\n",
    "    \n",
    "    S[:,:,:] = 1 - I[:,:,:] - R[:,:,:]\n",
    "    \n",
    "    I[0,lat_focus,lon_focus] = v\n",
    "    \n",
    "    S[0,lat_focus,lon_focus] = round(1 - I[0,lat_focus,lon_focus] - R[0,lat_focus,lon_focus],4)\n",
    "    \n",
    "    return I,S,R,lat,lon"
   ]
  },
  {
   "cell_type": "code",
   "execution_count": null,
   "metadata": {},
   "outputs": [],
   "source": [
    "def Poblacion_title(Pobla1,Pobla2):\n",
    "    if Pobla1 == 'homogenea':\n",
    "        Pob_title1 = 'Pob. K'\n",
    "    elif Pobla1 == 'heterogenea':\n",
    "        Pob_title1 = 'Pob. V'\n",
    "    elif Pobla2 == 'homogenea':\n",
    "        Pob_title2 = 'Pob. K'\n",
    "    elif Pobla2 == 'heterogenea':\n",
    "        Pob_title2 = 'Pob. V'\n",
    "    else:\n",
    "        print('ERROR')\n",
    "        Pob_title1 = 'ERROR'\n",
    "        Pob_title2 = 'ERROR'\n",
    "        return Pob_title1,Pob_title2\n",
    "        \n",
    "    return Pob_title1,Pob_title2"
   ]
  },
  {
   "cell_type": "code",
   "execution_count": null,
   "metadata": {},
   "outputs": [],
   "source": [
    "def Conectividad_title(Conec1,Conec2):\n",
    "    if Conec1 == 'homogenea':\n",
    "        Conec_title1 = 'Conec. K'\n",
    "    elif Conec1 == 'heterogenea':\n",
    "        Conec_title1 = 'Conec. V'\n",
    "    elif Conec2 == 'homogenea':\n",
    "        Conec_title2 = 'Conec. K'\n",
    "    elif Conec1 == 'heterogenea':\n",
    "        Conec_title2 = 'Conec. V'\n",
    "    else:\n",
    "        print('ERROR')\n",
    "        Conec_title1 = 'ERROR'\n",
    "        Conec_title2 = 'ERROR'\n",
    "        return Conec_title1,Conec_title2\n",
    "    \n",
    "    return Conec_title1,Conec_title2"
   ]
  },
  {
   "cell_type": "code",
   "execution_count": null,
   "metadata": {},
   "outputs": [],
   "source": [
    "def y_limite(I1,S1,R1,I2,S2,R2):\n",
    "    \n",
    "    limites = np.zeros([3,2])\n",
    "    limites[0,0] = np.min(I1-I2)\n",
    "    limites[0,1] = np.max(I1-I2)\n",
    "    limites[1,0] = np.min(S1-S2)\n",
    "    limites[1,1] = np.max(S1-S2)\n",
    "    limites[2,0] = np.min(R1-R2)\n",
    "    limites[2,1] = np.max(R1-R2)\n",
    "\n",
    "    min_min = np.min(limites[:,0])\n",
    "    max_max = np.max(limites[:,1])\n",
    "    \n",
    "    b1 = abs(max_max)\n",
    "    contador_sup1 = str(int(np.max(b1)))\n",
    "    contador_sup1 = len(contador_sup1)\n",
    "    divisor1 = pow(10,contador_sup1 - 1)\n",
    "    limite_max = int((np.round(int(np.max(b1)) / divisor1) + 1) * divisor1)\n",
    "    \n",
    "    a = min_min\n",
    "    b2 = abs(min_min)\n",
    "    contador_sup2 = str(int(np.max(b2)))\n",
    "    contador_sup2 = len(contador_sup2)\n",
    "    divisor2 = pow(10,contador_sup2 - 1)\n",
    "    limite_min = int((np.round(int(np.max(b2)) / divisor2) + 1) * divisor2)\n",
    "    \n",
    "    if a < 0:\n",
    "        limite_min = -1 * limite_min\n",
    "    \n",
    "    return limite_min,limite_max"
   ]
  }
 ],
 "metadata": {
  "kernelspec": {
   "display_name": "Python 3",
   "language": "python",
   "name": "python3"
  },
  "language_info": {
   "codemirror_mode": {
    "name": "ipython",
    "version": 3
   },
   "file_extension": ".py",
   "mimetype": "text/x-python",
   "name": "python",
   "nbconvert_exporter": "python",
   "pygments_lexer": "ipython3",
   "version": "3.7.6"
  }
 },
 "nbformat": 4,
 "nbformat_minor": 4
}
